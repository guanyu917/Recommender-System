{
 "cells": [
  {
   "cell_type": "code",
   "execution_count": 21,
   "metadata": {},
   "outputs": [],
   "source": [
    "%matplotlib inline\n",
    "from datetime import datetime\n",
    "import matplotlib.pyplot as plt\n",
    "from matplotlib.pyplot import figure\n",
    "from collections import OrderedDict\n",
    "import numpy as np\n",
    "import pandas as pd\n",
    "import seaborn as sns\n",
    "\n",
    "\n",
    "from sklearn.model_selection import KFold\n",
    "from sklearn.metrics import mean_squared_error\n",
    "from sklearn.model_selection import train_test_split\n",
    "\n",
    "plt.style.use(['ggplot'])"
   ]
  },
  {
   "cell_type": "markdown",
   "metadata": {},
   "source": [
    "# 1. Introduction"
   ]
  },
  {
   "cell_type": "markdown",
   "metadata": {},
   "source": [
    "Collaborative ﬁltering (CF) is a popular recommendation algorithm that bases its predictions and recommendations on the ratings or behavior of other users in the system. The fundamental assumption behind this method is that other users’ opinions can be selected and aggregated in such a way as to provide a reasonable prediction of the active user’s preference.\n",
    "\n",
    "\n",
    "The majority of collaborative ﬁltering algorithms in service today, including all algorithms detailed in this section, operate by ﬁrst generating predictions of the user’s preference and then produce their recommendations by ranking candidate items by predicted preferences. Often this prediction is in the same scale as the ratings provided by users, but occasionally the prediction is on a diﬀerent scale and is meaningful only for candidate ranking. This strategy is analagous to the common information retrieval method of producing relevance scores for each document in a corpus with respect to a particular query and presenting the top-scored items. Indeed, the recommend task can be viewed as an information retrieval problem in which the domain of items (the corpus) is queried with the user’s preference proﬁle.\n",
    "\n",
    "Therefore, this section is primarily concerned with how various algorithms predict user preference. In later sections we will discuss recommendation strategies that diverge from this structure, but in actual implementation they frequently start with a preference-ranked list of items and adjust the ﬁnal recommendation list based on additional criteria."
   ]
  },
  {
   "cell_type": "markdown",
   "metadata": {},
   "source": [
    "**Reference page 89**"
   ]
  },
  {
   "cell_type": "markdown",
   "metadata": {},
   "source": [
    "# 2. Load the Data"
   ]
  },
  {
   "cell_type": "code",
   "execution_count": 2,
   "metadata": {},
   "outputs": [],
   "source": [
    "# read the data\n",
    "ratings_df = pd.read_csv('raw/ml-100k/u.data', sep = '\\t', header = None, \n",
    "                      names = ['user_id', 'movie_id', 'rating', 'timestamp'])\n",
    "ratings_df['timestamp'] = ratings_df['timestamp'].apply(datetime.fromtimestamp)"
   ]
  },
  {
   "cell_type": "code",
   "execution_count": 3,
   "metadata": {},
   "outputs": [
    {
     "data": {
      "text/html": [
       "<div>\n",
       "<style scoped>\n",
       "    .dataframe tbody tr th:only-of-type {\n",
       "        vertical-align: middle;\n",
       "    }\n",
       "\n",
       "    .dataframe tbody tr th {\n",
       "        vertical-align: top;\n",
       "    }\n",
       "\n",
       "    .dataframe thead th {\n",
       "        text-align: right;\n",
       "    }\n",
       "</style>\n",
       "<table border=\"1\" class=\"dataframe\">\n",
       "  <thead>\n",
       "    <tr style=\"text-align: right;\">\n",
       "      <th></th>\n",
       "      <th>user_id</th>\n",
       "      <th>movie_id</th>\n",
       "      <th>rating</th>\n",
       "      <th>timestamp</th>\n",
       "    </tr>\n",
       "  </thead>\n",
       "  <tbody>\n",
       "    <tr>\n",
       "      <th>0</th>\n",
       "      <td>196</td>\n",
       "      <td>242</td>\n",
       "      <td>3</td>\n",
       "      <td>1997-12-04 07:55:49</td>\n",
       "    </tr>\n",
       "    <tr>\n",
       "      <th>1</th>\n",
       "      <td>186</td>\n",
       "      <td>302</td>\n",
       "      <td>3</td>\n",
       "      <td>1998-04-04 11:22:22</td>\n",
       "    </tr>\n",
       "    <tr>\n",
       "      <th>2</th>\n",
       "      <td>22</td>\n",
       "      <td>377</td>\n",
       "      <td>1</td>\n",
       "      <td>1997-11-06 23:18:36</td>\n",
       "    </tr>\n",
       "    <tr>\n",
       "      <th>3</th>\n",
       "      <td>244</td>\n",
       "      <td>51</td>\n",
       "      <td>2</td>\n",
       "      <td>1997-11-26 21:02:03</td>\n",
       "    </tr>\n",
       "    <tr>\n",
       "      <th>4</th>\n",
       "      <td>166</td>\n",
       "      <td>346</td>\n",
       "      <td>1</td>\n",
       "      <td>1998-02-01 21:33:16</td>\n",
       "    </tr>\n",
       "  </tbody>\n",
       "</table>\n",
       "</div>"
      ],
      "text/plain": [
       "   user_id  movie_id  rating           timestamp\n",
       "0      196       242       3 1997-12-04 07:55:49\n",
       "1      186       302       3 1998-04-04 11:22:22\n",
       "2       22       377       1 1997-11-06 23:18:36\n",
       "3      244        51       2 1997-11-26 21:02:03\n",
       "4      166       346       1 1998-02-01 21:33:16"
      ]
     },
     "execution_count": 3,
     "metadata": {},
     "output_type": "execute_result"
    }
   ],
   "source": [
    "ratings_df.head()"
   ]
  },
  {
   "cell_type": "code",
   "execution_count": 4,
   "metadata": {},
   "outputs": [
    {
     "data": {
      "text/html": [
       "<div>\n",
       "<style scoped>\n",
       "    .dataframe tbody tr th:only-of-type {\n",
       "        vertical-align: middle;\n",
       "    }\n",
       "\n",
       "    .dataframe tbody tr th {\n",
       "        vertical-align: top;\n",
       "    }\n",
       "\n",
       "    .dataframe thead th {\n",
       "        text-align: right;\n",
       "    }\n",
       "</style>\n",
       "<table border=\"1\" class=\"dataframe\">\n",
       "  <thead>\n",
       "    <tr style=\"text-align: right;\">\n",
       "      <th></th>\n",
       "      <th>user_id</th>\n",
       "      <th>movie_id</th>\n",
       "      <th>rating</th>\n",
       "      <th>timestamp</th>\n",
       "    </tr>\n",
       "  </thead>\n",
       "  <tbody>\n",
       "    <tr>\n",
       "      <th>99995</th>\n",
       "      <td>880</td>\n",
       "      <td>476</td>\n",
       "      <td>3</td>\n",
       "      <td>1997-11-21 21:10:44</td>\n",
       "    </tr>\n",
       "    <tr>\n",
       "      <th>99996</th>\n",
       "      <td>716</td>\n",
       "      <td>204</td>\n",
       "      <td>5</td>\n",
       "      <td>1997-11-17 11:39:03</td>\n",
       "    </tr>\n",
       "    <tr>\n",
       "      <th>99997</th>\n",
       "      <td>276</td>\n",
       "      <td>1090</td>\n",
       "      <td>1</td>\n",
       "      <td>1997-09-20 15:49:55</td>\n",
       "    </tr>\n",
       "    <tr>\n",
       "      <th>99998</th>\n",
       "      <td>13</td>\n",
       "      <td>225</td>\n",
       "      <td>2</td>\n",
       "      <td>1997-12-17 14:52:36</td>\n",
       "    </tr>\n",
       "    <tr>\n",
       "      <th>99999</th>\n",
       "      <td>12</td>\n",
       "      <td>203</td>\n",
       "      <td>3</td>\n",
       "      <td>1997-11-19 09:13:03</td>\n",
       "    </tr>\n",
       "  </tbody>\n",
       "</table>\n",
       "</div>"
      ],
      "text/plain": [
       "       user_id  movie_id  rating           timestamp\n",
       "99995      880       476       3 1997-11-21 21:10:44\n",
       "99996      716       204       5 1997-11-17 11:39:03\n",
       "99997      276      1090       1 1997-09-20 15:49:55\n",
       "99998       13       225       2 1997-12-17 14:52:36\n",
       "99999       12       203       3 1997-11-19 09:13:03"
      ]
     },
     "execution_count": 4,
     "metadata": {},
     "output_type": "execute_result"
    }
   ],
   "source": [
    "ratings_df.tail()"
   ]
  },
  {
   "cell_type": "markdown",
   "metadata": {},
   "source": [
    "# 3. Baseline Predictors"
   ]
  },
  {
   "cell_type": "markdown",
   "metadata": {},
   "source": [
    "**Goals:**\n",
    " \n",
    " 1. Baseline models give us a foundation to compare all future models\n",
    " 2. Useful baseline models maybe needed in filling with missing data for future complicated models"
   ]
  },
  {
   "cell_type": "markdown",
   "metadata": {},
   "source": [
    "Before discussing true collaborative ﬁltering altorighms, let us ﬁrst consider some baseline prediction methods. These methods are useful for establishing non-personalized baselines against which personalized algorithms can be compared, as well as for pre-processing and normalizing data for use with more sophisticated algorithms. Baseline algorithms that do not depend on the user’s ratings can also be useful for providing predictions for new users."
   ]
  },
  {
   "cell_type": "markdown",
   "metadata": {},
   "source": [
    "Denote the baseline prediction for user $u$ and item $i$ by $b_{u,i}$."
   ]
  },
  {
   "cell_type": "code",
   "execution_count": 5,
   "metadata": {},
   "outputs": [],
   "source": [
    "# test for models\n",
    "X_train = ratings_df.iloc[0:70000,:]\n",
    "Y_train = ratings_df.iloc[70000:,:]"
   ]
  },
  {
   "cell_type": "markdown",
   "metadata": {},
   "source": [
    "## 3.1 Method 1 : Simple Average Model"
   ]
  },
  {
   "cell_type": "markdown",
   "metadata": {},
   "source": [
    "The simplest baseline is to predict the average rating over all ratings in the system:\n",
    "\n",
    "$$b_{u,i} = u$$\n",
    "\n",
    "where $u$ is overall average rating"
   ]
  },
  {
   "cell_type": "code",
   "execution_count": 6,
   "metadata": {},
   "outputs": [],
   "source": [
    "class SimpleAvgModel:\n",
    "    \"\"\"\n",
    "    @return: array; the prediction of movie ratings\n",
    "    \n",
    "    \"\"\"\n",
    "    \n",
    "    def __init__(self):\n",
    "        pass\n",
    "    \n",
    "    def fit(self, X_train):\n",
    "        self.mu = X_train.iloc[:,2].mean()\n",
    "        \n",
    "    def predict(self, X_test):\n",
    "        self.prediction = np.ones(X_test.shape[0]) * self.mu\n",
    "        \n",
    "        return self.prediction"
   ]
  },
  {
   "cell_type": "code",
   "execution_count": 7,
   "metadata": {},
   "outputs": [],
   "source": [
    "# test = SimpleAvgModel()\n",
    "# test.fit(train_df)\n",
    "# test.predict(test_df)"
   ]
  },
  {
   "cell_type": "markdown",
   "metadata": {},
   "source": [
    "## Method 1 (Updated) : Predict Rating by User or Item"
   ]
  },
  {
   "cell_type": "markdown",
   "metadata": {},
   "source": [
    "The overall average model can be enhanced somewhat by predicting the average rating by that user or for that item:"
   ]
  },
  {
   "cell_type": "markdown",
   "metadata": {},
   "source": [
    "$$ b_{u,i} = \\bar{r_u} $$\n",
    "\n",
    "$$ b_{u,i} = \\bar{r_i} $$"
   ]
  },
  {
   "cell_type": "markdown",
   "metadata": {},
   "source": [
    "The basic idea of `AvgIdModel` is that the model will receive `movie id` or `user id` as input and estimate averages for each movie/user in a training set. The prediction of given ID will be filled in a testing set with from each movie/user or the overall average."
   ]
  },
  {
   "cell_type": "code",
   "execution_count": 8,
   "metadata": {},
   "outputs": [],
   "source": [
    "class AvgIdModel():\n",
    "    \"\"\"\n",
    "    @param id_name: str; input as 'movie_id' or 'user_id'\n",
    "    @return: array; the prediction of movie ratings\n",
    "\n",
    "    \"\"\"\n",
    "\n",
    "    def __init__(self, id_name):\n",
    "        self.id_name = id_name\n",
    "\n",
    "    def fit(self, X_train):\n",
    "\n",
    "        X_train = X_train.copy()\n",
    "        # get averages of each user/movie in the training set\n",
    "        self.pred = X_train.groupby(self.id_name)['rating'].mean()\n",
    "        # get the overall average\n",
    "        self.avg = X_train['rating'].mean()\n",
    "\n",
    "    def predict(self, X_test):\n",
    "\n",
    "        X_test = X_test.copy()\n",
    "        pred_df = X_test[[self.id_name, 'rating']].join(self.pred, on=self.id_name, rsuffix='_pred')\n",
    "        pred_df.fillna(self.avg, inplace=True)\n",
    "\n",
    "        return pred_df['rating_pred'].values\n"
   ]
  },
  {
   "cell_type": "code",
   "execution_count": 9,
   "metadata": {},
   "outputs": [],
   "source": [
    "# test = AvgIdModel('user_id')\n",
    "# test.fit(train_df)\n",
    "# test.predict(test_df)"
   ]
  },
  {
   "cell_type": "markdown",
   "metadata": {},
   "source": [
    "## Method 2: Regularized Effect Model"
   ]
  },
  {
   "cell_type": "markdown",
   "metadata": {},
   "source": [
    "The simplest baseline model is to predict the average rating over all ratings in the system. It can be further improved by combining the user mean and the average deviation from user rating for a particular item.\n",
    "\n",
    "The general form of another baseline model of following form can be used:\n",
    "\n",
    "$$ b_{u,i} = u + b_u + b_i$$\n",
    "\n",
    "where $b_u$ and $b_i$ are user and item baseline predictors respectively. \n",
    "\n",
    "The form of the new baseline is the ANOVA-style function. The $b_u$ and $b_i$ can be recognized as user deviance and movie deviance. Thus, the mathematical definitions of them are:\n",
    "\n",
    "$$b_u = \\frac{1}{|I_u|}\\sum_{i \\in I_u} (r_{u,i} - \\mu)$$\n",
    "\n",
    "and\n",
    "\n",
    "$$b_i = \\frac{1}{|U_i|}\\sum_{u \\in U_i} (r_{u,i} - b_u - \\mu).$$\n",
    "\n",
    "\n",
    "Also, the baseline model can be further regularized in order to provide more reasonable estimate of user and item preferences in face of sparse sampling, with the incorporation of damping terms $\\beta_u$ and $\\beta_i$:"
   ]
  },
  {
   "cell_type": "markdown",
   "metadata": {},
   "source": [
    "$$b_u = \\frac{1}{|I_u| + \\beta_u}\\sum_{i \\in I_u} (r_{u,i} - \\mu)$$\n",
    "\n",
    "and\n",
    "\n",
    "$$b_i = \\frac{1}{|U_i| + \\beta_i}\\sum_{u \\in U_i} (r_{u,i} - b_u - \\mu).$$\n",
    "\n",
    "\n",
    "| Variable        | Meaning                                               |\n",
    "| --------------- | ----------------------------------------------------- |\n",
    "| $b_{u,i}$       | Baseline rating for user $u$ on item (movie) $i$      |\n",
    "| $\\mu$           | The mean of all ratings                               |\n",
    "| $b_u$           | The deviation from $\\mu$ associated with user $u$     |\n",
    "| $b_i$           | The deviation from $\\mu+b_u$ associated with user $i$ |\n",
    "| $I_u$           | The set of all items rated by user $u$                |\n",
    "| $\\mid I_u \\mid$ | The number of items rated by user $u$                 |\n",
    "| $\\beta_u$       | Damping factor for the users ($=\\beta$)               |\n",
    "| $r_{u,i}$       | Observed rating for user $u$ on item $i$              |\n",
    "| $U_i$           | The set of all users who rated item $i$               |\n",
    "| $\\mid U_i \\mid$ | The number of users who rated item $i$                |\n",
    "| $\\beta_i$       | Damping factor for the items ($=\\beta$)               |\n",
    "\n",
    "\n",
    "\n",
    "This adjustment causes the baseline predicted ratings to be closer to global mean when the user or item has few ratings, based on the statistical principle that the more ratings a user has given or an item has received, the more is known about that user or item’s true mean rating. From [Funk's paper](https://sifter.org/~simon/journal/20061211.html), $\\beta$ = 25 work well in the system"
   ]
  },
  {
   "cell_type": "code",
   "execution_count": 10,
   "metadata": {},
   "outputs": [],
   "source": [
    "class RegEffectModel():\n",
    "    \"\"\"\n",
    "    @param damping_term: int; regularized term\n",
    "    @return: array; the prediction of rating scores\n",
    "\n",
    "    \"\"\"\n",
    "\n",
    "    def __init__(self, damping_term):\n",
    "        self.damping_term = damping_term\n",
    "\n",
    "    def fit(self, X_train):\n",
    "\n",
    "        X_train = X_train[['user_id', 'movie_id', 'rating']].copy()\n",
    "\n",
    "        # overall_mean of ratings\n",
    "        self.mu = X_train['rating'].mean()\n",
    "\n",
    "        # bu\n",
    "        I_u = X_train.groupby('user_id')['rating'].count()\n",
    "        b_u = 1/(I_u + self.damping_term) * (X_train.groupby('user_id')['rating'].sum() - I_u * self.mu)\n",
    "        self.b_u = b_u.rename('b_u')\n",
    "\n",
    "        # bi\n",
    "        X_train = X_train.join(self.b_u, on='user_id')\n",
    "        X_train['dev_i'] = X_train['rating'] - X_train['b_u'] - self.mu\n",
    "        U_i = X_train.groupby('movie_id')['rating'].count()\n",
    "        b_i = 1/(U_i + self.damping_term) * (X_train.groupby('movie_id')['dev_i'].sum())\n",
    "        self.b_i = b_i.rename('b_i')\n",
    "\n",
    "    def predict(self, X_test):\n",
    "\n",
    "        X_test = X_test[['user_id', 'movie_id']].copy()\n",
    "\n",
    "        # join b_u and b_i for testing set\n",
    "        X_test = X_test.join(self.b_u, on='user_id')\n",
    "        X_test = X_test.join(self.b_i, on='movie_id')\n",
    "        X_test = X_test.fillna(self.mu)\n",
    "\n",
    "        return (self.mu + X_test['b_u'] + X_test['b_i']).values"
   ]
  },
  {
   "cell_type": "code",
   "execution_count": 11,
   "metadata": {},
   "outputs": [],
   "source": [
    "# test = RegEffectModel(25)\n",
    "# test.fit(X_train)\n",
    "# test.predict(X_test)"
   ]
  },
  {
   "cell_type": "markdown",
   "metadata": {},
   "source": [
    "# 4. Evaluation of Baseline Recommenders"
   ]
  },
  {
   "cell_type": "markdown",
   "metadata": {},
   "source": [
    "We would like to apply time-independent cross-validation framework for comparsions of different methods since ratings scores are roughly consistent over time. In this project, K-folds cross validations will be used for meansuring quality of various models. "
   ]
  },
  {
   "cell_type": "code",
   "execution_count": 14,
   "metadata": {},
   "outputs": [],
   "source": [
    "X_train, X_test = train_test_split(ratings_df, test_size=0.2, shuffle = True, random_state=0)"
   ]
  },
  {
   "cell_type": "code",
   "execution_count": 15,
   "metadata": {},
   "outputs": [],
   "source": [
    "def RMSE(pred_val, true_val):\n",
    "    \n",
    "    return np.sqrt(mean_squared_error(pred_val, true_val))"
   ]
  },
  {
   "cell_type": "code",
   "execution_count": 55,
   "metadata": {},
   "outputs": [],
   "source": [
    "def Eval_Function(train_set, test_set, model, n_splits = 5, random_state = 0):\n",
    "\n",
    "    kf = KFold(n_splits = n_splits, random_state = random_state, shuffle = True)\n",
    "    valid_reuslts = []\n",
    "    test_results = []\n",
    "    \n",
    "    for train_index, test_index in kf.split(train_set):\n",
    "        # get training set and testing set\n",
    "        train_df, test_df = train_set.iloc[train_index, :],train_set.iloc[test_index, :] \n",
    "        # fit model\n",
    "        model.fit(train_df)\n",
    "        # make prediction\n",
    "        pred = model.predict(test_df)\n",
    "        # calculate k RMSEs\n",
    "        valid_reuslts.append(RMSE(pred, test_df['rating']))\n",
    "\n",
    "    # caluclate RMSE in test set\n",
    "    test_pred = model.predict(test_set)\n",
    "    test_results.append(RMSE(test_pred, test_set['rating']))\n",
    "\n",
    "    \n",
    "    return (valid_reuslts, test_results)"
   ]
  },
  {
   "cell_type": "code",
   "execution_count": 56,
   "metadata": {},
   "outputs": [],
   "source": [
    "# Calculate validation errors\n",
    "val_errs1, test_errs1 = Eval_Function(X_train, X_test, SimpleAvgModel())\n",
    "val_errs2, test_errs2 = Eval_Function(X_train, X_test, AvgIdModel('movie_id'))\n",
    "val_errs3, test_errs3 = Eval_Function(X_train, X_test, AvgIdModel('user_id'))\n",
    "val_errs4, test_errs4 = Eval_Function(X_train, X_test, RegEffectModel(0))\n",
    "val_errs5, test_errs5 = Eval_Function(X_train, X_test, RegEffectModel(10))\n",
    "val_errs6, test_errs6 = Eval_Function(X_train, X_test, RegEffectModel(25))\n",
    "val_errs7, test_errs7 = Eval_Function(X_train, X_test, RegEffectModel(30))"
   ]
  },
  {
   "cell_type": "markdown",
   "metadata": {},
   "source": [
    "## Validation Process"
   ]
  },
  {
   "cell_type": "code",
   "execution_count": 61,
   "metadata": {},
   "outputs": [],
   "source": [
    "df_errs = pd.DataFrame(\n",
    "    OrderedDict(\n",
    "        (\n",
    "            ('Average', val_errs1),\n",
    "            ('Item Average', val_errs2),\n",
    "            ('User Average', val_errs3),\n",
    "            ('DampingFactor 0', val_errs4),\n",
    "            ('DampingFactor 10', val_errs5),\n",
    "            ('DampingFactor 25', val_errs6),\n",
    "            ('DampingFactor 30', val_errs7),\n",
    "        )\n",
    "    )\n",
    ")\n",
    "df_errs = (\n",
    "    pd.melt(df_errs, value_vars=df_errs.columns)\n",
    "    .rename({'variable': 'Baseline Model', 'value': 'MAE'}, axis=1)\n",
    ")"
   ]
  },
  {
   "cell_type": "code",
   "execution_count": 67,
   "metadata": {},
   "outputs": [
    {
     "data": {
      "image/png": "[encoded data removed]",
      "text/plain": [
       "<Figure size 864x432 with 1 Axes>"
      ]
     },
     "metadata": {},
     "output_type": "display_data"
    }
   ],
   "source": [
    "fig, ax = plt.subplots(figsize=(12,6))\n",
    "sns.swarmplot(data=df_errs, x='Baseline Model', y='MAE', ax=ax)\n",
    "ax0.xaxis.set_visible(False)\n",
    "plt.tight_layout()\n",
    "plt.title('Comparsion of Baseline Models')\n",
    "plt.tight_layout(pad=2)\n",
    "plt.savefig('Comparsion of Baseline Models.png', dpi=600)\n",
    "plt.show()"
   ]
  },
  {
   "cell_type": "markdown",
   "metadata": {},
   "source": [
    "## Testing Set"
   ]
  },
  {
   "cell_type": "code",
   "execution_count": 63,
   "metadata": {},
   "outputs": [],
   "source": [
    "df_test_errs = pd.DataFrame(\n",
    "    OrderedDict(\n",
    "        (\n",
    "            ('Average', test_errs1),\n",
    "            ('Item Average', test_errs2),\n",
    "            ('User Average', test_errs3),\n",
    "            ('DampingFactor 0', test_errs4),\n",
    "            ('DampingFactor 10', test_errs5),\n",
    "            ('DampingFactor 25', test_errs6),\n",
    "            ('DampingFactor 30', test_errs7),\n",
    "        )\n",
    "    )\n",
    ")"
   ]
  },
  {
   "cell_type": "code",
   "execution_count": 64,
   "metadata": {},
   "outputs": [
    {
     "data": {
      "text/html": [
       "<div>\n",
       "<style scoped>\n",
       "    .dataframe tbody tr th:only-of-type {\n",
       "        vertical-align: middle;\n",
       "    }\n",
       "\n",
       "    .dataframe tbody tr th {\n",
       "        vertical-align: top;\n",
       "    }\n",
       "\n",
       "    .dataframe thead th {\n",
       "        text-align: right;\n",
       "    }\n",
       "</style>\n",
       "<table border=\"1\" class=\"dataframe\">\n",
       "  <thead>\n",
       "    <tr style=\"text-align: right;\">\n",
       "      <th></th>\n",
       "      <th>Average</th>\n",
       "      <th>Item Average</th>\n",
       "      <th>User Average</th>\n",
       "      <th>DampingFactor 0</th>\n",
       "      <th>DampingFactor 10</th>\n",
       "      <th>DampingFactor 25</th>\n",
       "      <th>DampingFactor 30</th>\n",
       "    </tr>\n",
       "  </thead>\n",
       "  <tbody>\n",
       "    <tr>\n",
       "      <th>0</th>\n",
       "      <td>1.12627</td>\n",
       "      <td>1.033484</td>\n",
       "      <td>1.040611</td>\n",
       "      <td>0.990597</td>\n",
       "      <td>0.986095</td>\n",
       "      <td>0.993633</td>\n",
       "      <td>0.996349</td>\n",
       "    </tr>\n",
       "  </tbody>\n",
       "</table>\n",
       "</div>"
      ],
      "text/plain": [
       "   Average  Item Average  User Average  DampingFactor 0  DampingFactor 10  \\\n",
       "0  1.12627      1.033484      1.040611         0.990597          0.986095   \n",
       "\n",
       "   DampingFactor 25  DampingFactor 30  \n",
       "0          0.993633          0.996349  "
      ]
     },
     "execution_count": 64,
     "metadata": {},
     "output_type": "execute_result"
    }
   ],
   "source": [
    "# testing set RMSEs\n",
    "df_test_errs"
   ]
  },
  {
   "cell_type": "code",
   "execution_count": null,
   "metadata": {},
   "outputs": [],
   "source": []
  }
 ],
 "metadata": {
  "kernelspec": {
   "display_name": "Python 3",
   "language": "python",
   "name": "python3"
  },
  "language_info": {
   "codemirror_mode": {
    "name": "ipython",
    "version": 3
   },
   "file_extension": ".py",
   "mimetype": "text/x-python",
   "name": "python",
   "nbconvert_exporter": "python",
   "pygments_lexer": "ipython3",
   "version": "3.7.1"
  }
 },
 "nbformat": 4,
 "nbformat_minor": 2
}
