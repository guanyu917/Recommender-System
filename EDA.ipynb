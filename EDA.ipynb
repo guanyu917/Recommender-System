{
 "cells": [
  {
   "cell_type": "code",
   "execution_count": 1,
   "metadata": {},
   "outputs": [],
   "source": [
    "%matplotlib inline\n",
    "from datetime import datetime\n",
    "from IPython.display import Markdown\n",
    "from os.path import join\n",
    "from os.path import exists\n",
    "import matplotlib.pyplot as plt\n",
    "from matplotlib.pyplot import figure\n",
    "import numpy as np\n",
    "import pandas as pd\n",
    "import seaborn as sns\n",
    "\n",
    "plt.style.use(['ggplot'])"
   ]
  },
  {
   "cell_type": "markdown",
   "metadata": {},
   "source": [
    "# Get the data"
   ]
  },
  {
   "cell_type": "code",
   "execution_count": 2,
   "metadata": {},
   "outputs": [
    {
     "name": "stdout",
     "output_type": "stream",
     "text": [
      "  % Total    % Received % Xferd  Average Speed   Time    Time     Time  Current\n",
      "                                 Dload  Upload   Total   Spent    Left  Speed\n",
      "100 4808k  100 4808k    0     0  1042k      0  0:00:04  0:00:04 --:--:-- 1042k\n",
      "Archive:  ml-100k.zip\n",
      "  inflating: raw/ml-100k/allbut.pl   \n",
      "  inflating: raw/ml-100k/mku.sh      \n",
      "  inflating: raw/ml-100k/README      \n",
      "  inflating: raw/ml-100k/u.data      \n",
      "  inflating: raw/ml-100k/u.genre     \n",
      "  inflating: raw/ml-100k/u.info      \n",
      "  inflating: raw/ml-100k/u.item      \n",
      "  inflating: raw/ml-100k/u.occupation  \n",
      "  inflating: raw/ml-100k/u.user      \n",
      "  inflating: raw/ml-100k/u1.base     \n",
      "  inflating: raw/ml-100k/u1.test     \n",
      "  inflating: raw/ml-100k/u2.base     \n",
      "  inflating: raw/ml-100k/u2.test     \n",
      "  inflating: raw/ml-100k/u3.base     \n",
      "  inflating: raw/ml-100k/u3.test     \n",
      "  inflating: raw/ml-100k/u4.base     \n",
      "  inflating: raw/ml-100k/u4.test     \n",
      "  inflating: raw/ml-100k/u5.base     \n",
      "  inflating: raw/ml-100k/u5.test     \n",
      "  inflating: raw/ml-100k/ua.base     \n",
      "  inflating: raw/ml-100k/ua.test     \n",
      "  inflating: raw/ml-100k/ub.base     \n",
      "  inflating: raw/ml-100k/ub.test     \n"
     ]
    }
   ],
   "source": [
    "!mkdir -p raw # create a raw folder\n",
    "!curl -O http://files.grouplens.org/datasets/movielens/ml-100k.zip # get zip file\n",
    "!unzip -o ml-100k.zip -d raw/ # unzip the file to overwrite into raw\n",
    "!rm ml-100k.zip # remove the file"
   ]
  },
  {
   "cell_type": "code",
   "execution_count": 2,
   "metadata": {},
   "outputs": [
    {
     "data": {
      "text/html": [
       "<div>\n",
       "<style scoped>\n",
       "    .dataframe tbody tr th:only-of-type {\n",
       "        vertical-align: middle;\n",
       "    }\n",
       "\n",
       "    .dataframe tbody tr th {\n",
       "        vertical-align: top;\n",
       "    }\n",
       "\n",
       "    .dataframe thead th {\n",
       "        text-align: right;\n",
       "    }\n",
       "</style>\n",
       "<table border=\"1\" class=\"dataframe\">\n",
       "  <thead>\n",
       "    <tr style=\"text-align: right;\">\n",
       "      <th></th>\n",
       "      <th>user_id</th>\n",
       "      <th>movie_id</th>\n",
       "      <th>rating</th>\n",
       "      <th>timestamp</th>\n",
       "      <th>year</th>\n",
       "      <th>month</th>\n",
       "    </tr>\n",
       "  </thead>\n",
       "  <tbody>\n",
       "    <tr>\n",
       "      <th>214</th>\n",
       "      <td>259</td>\n",
       "      <td>255</td>\n",
       "      <td>4</td>\n",
       "      <td>1997-09-19 20:05:10</td>\n",
       "      <td>1997</td>\n",
       "      <td>9</td>\n",
       "    </tr>\n",
       "    <tr>\n",
       "      <th>83965</th>\n",
       "      <td>259</td>\n",
       "      <td>286</td>\n",
       "      <td>4</td>\n",
       "      <td>1997-09-19 20:05:27</td>\n",
       "      <td>1997</td>\n",
       "      <td>9</td>\n",
       "    </tr>\n",
       "    <tr>\n",
       "      <th>43027</th>\n",
       "      <td>259</td>\n",
       "      <td>298</td>\n",
       "      <td>4</td>\n",
       "      <td>1997-09-19 20:05:54</td>\n",
       "      <td>1997</td>\n",
       "      <td>9</td>\n",
       "    </tr>\n",
       "    <tr>\n",
       "      <th>21396</th>\n",
       "      <td>259</td>\n",
       "      <td>185</td>\n",
       "      <td>4</td>\n",
       "      <td>1997-09-19 20:06:21</td>\n",
       "      <td>1997</td>\n",
       "      <td>9</td>\n",
       "    </tr>\n",
       "    <tr>\n",
       "      <th>82655</th>\n",
       "      <td>259</td>\n",
       "      <td>173</td>\n",
       "      <td>4</td>\n",
       "      <td>1997-09-19 20:07:23</td>\n",
       "      <td>1997</td>\n",
       "      <td>9</td>\n",
       "    </tr>\n",
       "    <tr>\n",
       "      <th>...</th>\n",
       "      <td>...</td>\n",
       "      <td>...</td>\n",
       "      <td>...</td>\n",
       "      <td>...</td>\n",
       "      <td>...</td>\n",
       "      <td>...</td>\n",
       "    </tr>\n",
       "    <tr>\n",
       "      <th>46773</th>\n",
       "      <td>729</td>\n",
       "      <td>689</td>\n",
       "      <td>4</td>\n",
       "      <td>1998-04-22 16:10:38</td>\n",
       "      <td>1998</td>\n",
       "      <td>4</td>\n",
       "    </tr>\n",
       "    <tr>\n",
       "      <th>73008</th>\n",
       "      <td>729</td>\n",
       "      <td>313</td>\n",
       "      <td>3</td>\n",
       "      <td>1998-04-22 16:10:38</td>\n",
       "      <td>1998</td>\n",
       "      <td>4</td>\n",
       "    </tr>\n",
       "    <tr>\n",
       "      <th>46574</th>\n",
       "      <td>729</td>\n",
       "      <td>328</td>\n",
       "      <td>3</td>\n",
       "      <td>1998-04-22 16:10:38</td>\n",
       "      <td>1998</td>\n",
       "      <td>4</td>\n",
       "    </tr>\n",
       "    <tr>\n",
       "      <th>64312</th>\n",
       "      <td>729</td>\n",
       "      <td>748</td>\n",
       "      <td>4</td>\n",
       "      <td>1998-04-22 16:10:38</td>\n",
       "      <td>1998</td>\n",
       "      <td>4</td>\n",
       "    </tr>\n",
       "    <tr>\n",
       "      <th>79208</th>\n",
       "      <td>729</td>\n",
       "      <td>272</td>\n",
       "      <td>4</td>\n",
       "      <td>1998-04-22 16:10:38</td>\n",
       "      <td>1998</td>\n",
       "      <td>4</td>\n",
       "    </tr>\n",
       "  </tbody>\n",
       "</table>\n",
       "<p>100000 rows × 6 columns</p>\n",
       "</div>"
      ],
      "text/plain": [
       "       user_id  movie_id  rating           timestamp  year  month\n",
       "214        259       255       4 1997-09-19 20:05:10  1997      9\n",
       "83965      259       286       4 1997-09-19 20:05:27  1997      9\n",
       "43027      259       298       4 1997-09-19 20:05:54  1997      9\n",
       "21396      259       185       4 1997-09-19 20:06:21  1997      9\n",
       "82655      259       173       4 1997-09-19 20:07:23  1997      9\n",
       "...        ...       ...     ...                 ...   ...    ...\n",
       "46773      729       689       4 1998-04-22 16:10:38  1998      4\n",
       "73008      729       313       3 1998-04-22 16:10:38  1998      4\n",
       "46574      729       328       3 1998-04-22 16:10:38  1998      4\n",
       "64312      729       748       4 1998-04-22 16:10:38  1998      4\n",
       "79208      729       272       4 1998-04-22 16:10:38  1998      4\n",
       "\n",
       "[100000 rows x 6 columns]"
      ]
     },
     "execution_count": 2,
     "metadata": {},
     "output_type": "execute_result"
    }
   ],
   "source": [
    "# read the data\n",
    "ratings = pd.read_csv('raw/ml-100k/u.data', sep = '\\t', header = None, \n",
    "                      names = ['user_id', 'movie_id', 'rating', 'timestamp'])\n",
    "ratings['timestamp'] = ratings['timestamp'].apply(datetime.fromtimestamp)\n",
    "ratings['year'] = ratings['timestamp'].dt.year\n",
    "ratings['month'] = ratings['timestamp'].dt.month\n",
    "ratings.head()\n",
    "\n",
    "# sort data by timestamp\n",
    "ratings = ratings.sort_values('timestamp')\n",
    "ratings"
   ]
  },
  {
   "cell_type": "markdown",
   "metadata": {},
   "source": [
    "The ratings dataset is composed with `user_id`, `item_id` and `rating` with time. We could explore more information about this dataset.\n"
   ]
  },
  {
   "cell_type": "markdown",
   "metadata": {},
   "source": [
    "# EDA"
   ]
  },
  {
   "cell_type": "markdown",
   "metadata": {},
   "source": [
    "## 1. How are ratings distributed?"
   ]
  },
  {
   "cell_type": "markdown",
   "metadata": {},
   "source": [
    "The mode of rating is about 4. The shape is kind of left-skewness. "
   ]
  },
  {
   "cell_type": "code",
   "execution_count": 3,
   "metadata": {},
   "outputs": [
    {
     "data": {
      "image/png": "[encoded data removed]",
      "text/plain": [
       "<Figure size 432x288 with 1 Axes>"
      ]
     },
     "metadata": {},
     "output_type": "display_data"
    }
   ],
   "source": [
    "rating_count = (\n",
    "    ratings['rating'].\n",
    "    value_counts(normalize = True, sort=False).\n",
    "    reset_index().\n",
    "    rename(columns = {'index' : 'rating', 'rating': 'frequency'})\n",
    ")\n",
    "\n",
    "ax = sns.barplot(x = 'rating', y = 'frequency', palette = 'Blues', data = rating_count)\n",
    "ax.set_title('Rating Distribution')\n",
    "# plt.savefig('EDA_rating_dist.png', dpi=300)\n",
    "plt.show()"
   ]
  },
  {
   "cell_type": "markdown",
   "metadata": {},
   "source": [
    "## 2. The histogram of the number of user ratings"
   ]
  },
  {
   "cell_type": "markdown",
   "metadata": {},
   "source": [
    "Most users wrote limited numbers(< 100) of reviews."
   ]
  },
  {
   "cell_type": "code",
   "execution_count": 4,
   "metadata": {},
   "outputs": [
    {
     "data": {
      "text/plain": [
       "943"
      ]
     },
     "execution_count": 4,
     "metadata": {},
     "output_type": "execute_result"
    }
   ],
   "source": [
    "len(set(ratings['user_id']))"
   ]
  },
  {
   "cell_type": "code",
   "execution_count": 5,
   "metadata": {},
   "outputs": [
    {
     "data": {
      "text/plain": [
       "user_id\n",
       "1      272\n",
       "2       62\n",
       "3       54\n",
       "4       24\n",
       "5      175\n",
       "      ... \n",
       "939     49\n",
       "940    107\n",
       "941     22\n",
       "942     79\n",
       "943    168\n",
       "Name: movie_id, Length: 943, dtype: int64"
      ]
     },
     "execution_count": 5,
     "metadata": {},
     "output_type": "execute_result"
    }
   ],
   "source": [
    "ratings.groupby('user_id')['movie_id'].count()"
   ]
  },
  {
   "cell_type": "code",
   "execution_count": 6,
   "metadata": {},
   "outputs": [
    {
     "data": {
      "image/png": "[encoded data removed]",
      "text/plain": [
       "<Figure size 432x288 with 1 Axes>"
      ]
     },
     "metadata": {},
     "output_type": "display_data"
    }
   ],
   "source": [
    "g = sns.distplot(ratings.groupby('user_id')['movie_id'].count(), kde = False, bins = 50)\n",
    "g.set_title('The Number of Rating vs User ID')\n",
    "g.set_xlabel('User_Id')\n",
    "g.set_ylabel('The Number of Rating');\n",
    "# plt.savefig('EDA_Rating vs User_id.png', dpi=300);"
   ]
  },
  {
   "cell_type": "markdown",
   "metadata": {},
   "source": [
    "## 3. How many ratings were submitted per month?"
   ]
  },
  {
   "cell_type": "code",
   "execution_count": 7,
   "metadata": {},
   "outputs": [
    {
     "data": {
      "text/html": [
       "<div>\n",
       "<style scoped>\n",
       "    .dataframe tbody tr th:only-of-type {\n",
       "        vertical-align: middle;\n",
       "    }\n",
       "\n",
       "    .dataframe tbody tr th {\n",
       "        vertical-align: top;\n",
       "    }\n",
       "\n",
       "    .dataframe thead th {\n",
       "        text-align: right;\n",
       "    }\n",
       "</style>\n",
       "<table border=\"1\" class=\"dataframe\">\n",
       "  <thead>\n",
       "    <tr style=\"text-align: right;\">\n",
       "      <th></th>\n",
       "      <th>month</th>\n",
       "      <th>rating</th>\n",
       "    </tr>\n",
       "    <tr>\n",
       "      <th>year</th>\n",
       "      <th></th>\n",
       "      <th></th>\n",
       "    </tr>\n",
       "  </thead>\n",
       "  <tbody>\n",
       "    <tr>\n",
       "      <th>1997</th>\n",
       "      <td>September</td>\n",
       "      <td>6863</td>\n",
       "    </tr>\n",
       "    <tr>\n",
       "      <th>1997</th>\n",
       "      <td>October</td>\n",
       "      <td>10313</td>\n",
       "    </tr>\n",
       "    <tr>\n",
       "      <th>1997</th>\n",
       "      <td>November</td>\n",
       "      <td>24137</td>\n",
       "    </tr>\n",
       "    <tr>\n",
       "      <th>1997</th>\n",
       "      <td>December</td>\n",
       "      <td>11631</td>\n",
       "    </tr>\n",
       "    <tr>\n",
       "      <th>1998</th>\n",
       "      <td>January</td>\n",
       "      <td>14237</td>\n",
       "    </tr>\n",
       "    <tr>\n",
       "      <th>1998</th>\n",
       "      <td>February</td>\n",
       "      <td>10946</td>\n",
       "    </tr>\n",
       "    <tr>\n",
       "      <th>1998</th>\n",
       "      <td>March</td>\n",
       "      <td>13034</td>\n",
       "    </tr>\n",
       "    <tr>\n",
       "      <th>1998</th>\n",
       "      <td>April</td>\n",
       "      <td>8839</td>\n",
       "    </tr>\n",
       "  </tbody>\n",
       "</table>\n",
       "</div>"
      ],
      "text/plain": [
       "          month  rating\n",
       "year                   \n",
       "1997  September    6863\n",
       "1997    October   10313\n",
       "1997   November   24137\n",
       "1997   December   11631\n",
       "1998    January   14237\n",
       "1998   February   10946\n",
       "1998      March   13034\n",
       "1998      April    8839"
      ]
     },
     "metadata": {},
     "output_type": "display_data"
    },
    {
     "data": {
      "image/png": "[encoded data removed]",
      "text/plain": [
       "<Figure size 432x288 with 1 Axes>"
      ]
     },
     "metadata": {},
     "output_type": "display_data"
    }
   ],
   "source": [
    "import calendar\n",
    "\n",
    "rating_time = ratings.groupby(['year', 'month'])['rating'].count()\n",
    "rating_time = rating_time.reset_index(level=1)\n",
    "rating_time['month'] = [calendar.month_name[i] for i in rating_time['month']]\n",
    "display(rating_time)\n",
    "\n",
    "ax = sns.lineplot(x = 'month', y = 'rating',data = rating_time, sort = False)\n",
    "ax.set_ylabel('The Number of Rating')\n",
    "plt.xticks(rotation=45);\n",
    "# plt.savefig('EDA_RatingOverTime', dpi=300);"
   ]
  },
  {
   "cell_type": "markdown",
   "metadata": {},
   "source": [
    "In 1997 November, the number of rating is higher than others; other months have constant euqally numbers of rating."
   ]
  },
  {
   "cell_type": "code",
   "execution_count": 8,
   "metadata": {},
   "outputs": [
    {
     "data": {
      "text/plain": [
       "1682"
      ]
     },
     "execution_count": 8,
     "metadata": {},
     "output_type": "execute_result"
    }
   ],
   "source": [
    "ratings['movie_id'].nunique()"
   ]
  },
  {
   "cell_type": "markdown",
   "metadata": {},
   "source": [
    "## 4. How consistent are the average ratings over time?"
   ]
  },
  {
   "cell_type": "markdown",
   "metadata": {},
   "source": [
    "The average ratings were fairly consistent around 3.5. The lack of change over time might simplify future models."
   ]
  },
  {
   "cell_type": "code",
   "execution_count": 9,
   "metadata": {
    "scrolled": false
   },
   "outputs": [
    {
     "data": {
      "text/html": [
       "<div>\n",
       "<style scoped>\n",
       "    .dataframe tbody tr th:only-of-type {\n",
       "        vertical-align: middle;\n",
       "    }\n",
       "\n",
       "    .dataframe tbody tr th {\n",
       "        vertical-align: top;\n",
       "    }\n",
       "\n",
       "    .dataframe thead th {\n",
       "        text-align: right;\n",
       "    }\n",
       "</style>\n",
       "<table border=\"1\" class=\"dataframe\">\n",
       "  <thead>\n",
       "    <tr style=\"text-align: right;\">\n",
       "      <th></th>\n",
       "      <th>month</th>\n",
       "      <th>mean</th>\n",
       "      <th>std</th>\n",
       "    </tr>\n",
       "    <tr>\n",
       "      <th>year</th>\n",
       "      <th></th>\n",
       "      <th></th>\n",
       "      <th></th>\n",
       "    </tr>\n",
       "  </thead>\n",
       "  <tbody>\n",
       "    <tr>\n",
       "      <th>1997</th>\n",
       "      <td>September</td>\n",
       "      <td>3.544368</td>\n",
       "      <td>1.089431</td>\n",
       "    </tr>\n",
       "    <tr>\n",
       "      <th>1997</th>\n",
       "      <td>October</td>\n",
       "      <td>3.592844</td>\n",
       "      <td>1.099640</td>\n",
       "    </tr>\n",
       "    <tr>\n",
       "      <th>1997</th>\n",
       "      <td>November</td>\n",
       "      <td>3.557692</td>\n",
       "      <td>1.110484</td>\n",
       "    </tr>\n",
       "    <tr>\n",
       "      <th>1997</th>\n",
       "      <td>December</td>\n",
       "      <td>3.580690</td>\n",
       "      <td>1.110414</td>\n",
       "    </tr>\n",
       "    <tr>\n",
       "      <th>1998</th>\n",
       "      <td>January</td>\n",
       "      <td>3.395519</td>\n",
       "      <td>1.185868</td>\n",
       "    </tr>\n",
       "    <tr>\n",
       "      <th>1998</th>\n",
       "      <td>February</td>\n",
       "      <td>3.460259</td>\n",
       "      <td>1.129901</td>\n",
       "    </tr>\n",
       "    <tr>\n",
       "      <th>1998</th>\n",
       "      <td>March</td>\n",
       "      <td>3.545113</td>\n",
       "      <td>1.110692</td>\n",
       "    </tr>\n",
       "    <tr>\n",
       "      <th>1998</th>\n",
       "      <td>April</td>\n",
       "      <td>3.582306</td>\n",
       "      <td>1.140497</td>\n",
       "    </tr>\n",
       "  </tbody>\n",
       "</table>\n",
       "</div>"
      ],
      "text/plain": [
       "          month      mean       std\n",
       "year                               \n",
       "1997  September  3.544368  1.089431\n",
       "1997    October  3.592844  1.099640\n",
       "1997   November  3.557692  1.110484\n",
       "1997   December  3.580690  1.110414\n",
       "1998    January  3.395519  1.185868\n",
       "1998   February  3.460259  1.129901\n",
       "1998      March  3.545113  1.110692\n",
       "1998      April  3.582306  1.140497"
      ]
     },
     "metadata": {},
     "output_type": "display_data"
    },
    {
     "name": "stderr",
     "output_type": "stream",
     "text": [
      "/Users/Aaron/anaconda3/lib/python3.7/site-packages/seaborn/axisgrid.py:230: UserWarning: The `size` paramter has been renamed to `height`; please update your code.\n",
      "  warnings.warn(msg, UserWarning)\n"
     ]
    },
    {
     "data": {
      "image/png": "[encoded data removed]",
      "text/plain": [
       "<Figure size 432x432 with 1 Axes>"
      ]
     },
     "metadata": {},
     "output_type": "display_data"
    }
   ],
   "source": [
    "rating_avg = ratings.groupby(['year', 'month'])['rating'].agg([np.mean, np.std])\n",
    "rating_avg = rating_avg.reset_index(level = 1)\n",
    "rating_avg['month'] = [calendar.month_name[i] for i in rating_avg['month']]\n",
    "display(rating_avg)\n",
    "\n",
    "g = sns.FacetGrid(rating_avg, size=6, ylim = (0,6))\n",
    "ax = g.map(plt.errorbar,'month', 'mean', 'std', marker=\"o\")\n",
    "ax.set(xlabel = 'month', ylabel = 'Average ratings')\n",
    "plt.xticks(rotation=45);"
   ]
  },
  {
   "cell_type": "code",
   "execution_count": 10,
   "metadata": {},
   "outputs": [
    {
     "data": {
      "text/html": [
       "<div>\n",
       "<style scoped>\n",
       "    .dataframe tbody tr th:only-of-type {\n",
       "        vertical-align: middle;\n",
       "    }\n",
       "\n",
       "    .dataframe tbody tr th {\n",
       "        vertical-align: top;\n",
       "    }\n",
       "\n",
       "    .dataframe thead th {\n",
       "        text-align: right;\n",
       "    }\n",
       "</style>\n",
       "<table border=\"1\" class=\"dataframe\">\n",
       "  <thead>\n",
       "    <tr style=\"text-align: right;\">\n",
       "      <th></th>\n",
       "      <th>year</th>\n",
       "      <th>month</th>\n",
       "      <th>Rating</th>\n",
       "      <th>std</th>\n",
       "    </tr>\n",
       "    <tr>\n",
       "      <th>Date</th>\n",
       "      <th></th>\n",
       "      <th></th>\n",
       "      <th></th>\n",
       "      <th></th>\n",
       "    </tr>\n",
       "  </thead>\n",
       "  <tbody>\n",
       "    <tr>\n",
       "      <th>1997-09-01</th>\n",
       "      <td>1997</td>\n",
       "      <td>9</td>\n",
       "      <td>3.544368</td>\n",
       "      <td>1.089431</td>\n",
       "    </tr>\n",
       "    <tr>\n",
       "      <th>1997-10-01</th>\n",
       "      <td>1997</td>\n",
       "      <td>10</td>\n",
       "      <td>3.592844</td>\n",
       "      <td>1.099640</td>\n",
       "    </tr>\n",
       "    <tr>\n",
       "      <th>1997-11-01</th>\n",
       "      <td>1997</td>\n",
       "      <td>11</td>\n",
       "      <td>3.557692</td>\n",
       "      <td>1.110484</td>\n",
       "    </tr>\n",
       "    <tr>\n",
       "      <th>1997-12-01</th>\n",
       "      <td>1997</td>\n",
       "      <td>12</td>\n",
       "      <td>3.580690</td>\n",
       "      <td>1.110414</td>\n",
       "    </tr>\n",
       "    <tr>\n",
       "      <th>1998-01-01</th>\n",
       "      <td>1998</td>\n",
       "      <td>1</td>\n",
       "      <td>3.395519</td>\n",
       "      <td>1.185868</td>\n",
       "    </tr>\n",
       "    <tr>\n",
       "      <th>1998-02-01</th>\n",
       "      <td>1998</td>\n",
       "      <td>2</td>\n",
       "      <td>3.460259</td>\n",
       "      <td>1.129901</td>\n",
       "    </tr>\n",
       "    <tr>\n",
       "      <th>1998-03-01</th>\n",
       "      <td>1998</td>\n",
       "      <td>3</td>\n",
       "      <td>3.545113</td>\n",
       "      <td>1.110692</td>\n",
       "    </tr>\n",
       "    <tr>\n",
       "      <th>1998-04-01</th>\n",
       "      <td>1998</td>\n",
       "      <td>4</td>\n",
       "      <td>3.582306</td>\n",
       "      <td>1.140497</td>\n",
       "    </tr>\n",
       "  </tbody>\n",
       "</table>\n",
       "</div>"
      ],
      "text/plain": [
       "            year month    Rating       std\n",
       "Date                                      \n",
       "1997-09-01  1997     9  3.544368  1.089431\n",
       "1997-10-01  1997    10  3.592844  1.099640\n",
       "1997-11-01  1997    11  3.557692  1.110484\n",
       "1997-12-01  1997    12  3.580690  1.110414\n",
       "1998-01-01  1998     1  3.395519  1.185868\n",
       "1998-02-01  1998     2  3.460259  1.129901\n",
       "1998-03-01  1998     3  3.545113  1.110692\n",
       "1998-04-01  1998     4  3.582306  1.140497"
      ]
     },
     "metadata": {},
     "output_type": "display_data"
    },
    {
     "data": {
      "image/png": "[encoded data removed]",
      "text/plain": [
       "<Figure size 432x288 with 1 Axes>"
      ]
     },
     "metadata": {},
     "output_type": "display_data"
    }
   ],
   "source": [
    "month_counts = ratings.groupby(['year', 'month'])['rating'].agg([np.mean, np.std])\n",
    "month_counts = month_counts.rename(index=str, columns={'mean': 'Rating'})\n",
    "month_counts = month_counts.reset_index()\n",
    "month_counts['Date'] = month_counts[['year', 'month']].apply(\n",
    "    lambda x: datetime(year=int(x[0]), month=int(x[1]), day=1), axis=1\n",
    ")\n",
    "month_counts = month_counts.set_index('Date', drop=True)\n",
    "display(month_counts)\n",
    "month_counts['Rating'].plot(style='o-')\n",
    "plt.fill_between(month_counts.index,\n",
    "                 month_counts['Rating'] - month_counts['std'],\n",
    "                 month_counts['Rating'] + month_counts['std'],\n",
    "                 alpha=0.3,\n",
    "                )\n",
    "plt.ylim([0, 5])\n",
    "plt.ylabel('Rating')\n",
    "plt.gca().grid(which='minor')\n",
    "plt.title('Rating Consistency over Time')\n",
    "plt.tight_layout(pad=2)\n",
    "# plt.savefig('EDA_Rating_scores', dpi=900, figsize = (8, 8))\n",
    "plt.show()"
   ]
  },
  {
   "cell_type": "markdown",
   "metadata": {},
   "source": [
    "## 4. How quickly do the movie and user bases grow over time?"
   ]
  },
  {
   "cell_type": "markdown",
   "metadata": {},
   "source": [
    "The numbers of users and movies increase linearly over time."
   ]
  },
  {
   "cell_type": "code",
   "execution_count": 11,
   "metadata": {},
   "outputs": [
    {
     "data": {
      "text/html": [
       "<div>\n",
       "<style scoped>\n",
       "    .dataframe tbody tr th:only-of-type {\n",
       "        vertical-align: middle;\n",
       "    }\n",
       "\n",
       "    .dataframe tbody tr th {\n",
       "        vertical-align: top;\n",
       "    }\n",
       "\n",
       "    .dataframe thead th {\n",
       "        text-align: right;\n",
       "    }\n",
       "</style>\n",
       "<table border=\"1\" class=\"dataframe\">\n",
       "  <thead>\n",
       "    <tr style=\"text-align: right;\">\n",
       "      <th></th>\n",
       "      <th>user_id</th>\n",
       "      <th>movie_id</th>\n",
       "      <th>rating</th>\n",
       "      <th>timestamp</th>\n",
       "      <th>year</th>\n",
       "      <th>month</th>\n",
       "      <th>Date</th>\n",
       "    </tr>\n",
       "  </thead>\n",
       "  <tbody>\n",
       "    <tr>\n",
       "      <th>214</th>\n",
       "      <td>259</td>\n",
       "      <td>255</td>\n",
       "      <td>4</td>\n",
       "      <td>1997-09-19 20:05:10</td>\n",
       "      <td>1997</td>\n",
       "      <td>9</td>\n",
       "      <td>1997-09-01</td>\n",
       "    </tr>\n",
       "    <tr>\n",
       "      <th>83965</th>\n",
       "      <td>259</td>\n",
       "      <td>286</td>\n",
       "      <td>4</td>\n",
       "      <td>1997-09-19 20:05:27</td>\n",
       "      <td>1997</td>\n",
       "      <td>9</td>\n",
       "      <td>1997-09-01</td>\n",
       "    </tr>\n",
       "    <tr>\n",
       "      <th>43027</th>\n",
       "      <td>259</td>\n",
       "      <td>298</td>\n",
       "      <td>4</td>\n",
       "      <td>1997-09-19 20:05:54</td>\n",
       "      <td>1997</td>\n",
       "      <td>9</td>\n",
       "      <td>1997-09-01</td>\n",
       "    </tr>\n",
       "    <tr>\n",
       "      <th>21396</th>\n",
       "      <td>259</td>\n",
       "      <td>185</td>\n",
       "      <td>4</td>\n",
       "      <td>1997-09-19 20:06:21</td>\n",
       "      <td>1997</td>\n",
       "      <td>9</td>\n",
       "      <td>1997-09-01</td>\n",
       "    </tr>\n",
       "    <tr>\n",
       "      <th>82655</th>\n",
       "      <td>259</td>\n",
       "      <td>173</td>\n",
       "      <td>4</td>\n",
       "      <td>1997-09-19 20:07:23</td>\n",
       "      <td>1997</td>\n",
       "      <td>9</td>\n",
       "      <td>1997-09-01</td>\n",
       "    </tr>\n",
       "  </tbody>\n",
       "</table>\n",
       "</div>"
      ],
      "text/plain": [
       "       user_id  movie_id  rating           timestamp  year  month       Date\n",
       "214        259       255       4 1997-09-19 20:05:10  1997      9 1997-09-01\n",
       "83965      259       286       4 1997-09-19 20:05:27  1997      9 1997-09-01\n",
       "43027      259       298       4 1997-09-19 20:05:54  1997      9 1997-09-01\n",
       "21396      259       185       4 1997-09-19 20:06:21  1997      9 1997-09-01\n",
       "82655      259       173       4 1997-09-19 20:07:23  1997      9 1997-09-01"
      ]
     },
     "metadata": {},
     "output_type": "display_data"
    },
    {
     "data": {
      "image/png": "[encoded data removed]",
      "text/plain": [
       "<Figure size 432x288 with 1 Axes>"
      ]
     },
     "metadata": {},
     "output_type": "display_data"
    }
   ],
   "source": [
    "ratings['Date'] = ratings[['year', 'month']].apply(\n",
    "    lambda x: datetime(year=int(x[0]), month=int(x[1]), day=1), axis=1\n",
    ")\n",
    "display(ratings.head())\n",
    "n_users = []\n",
    "n_movies = []\n",
    "dates = np.unique(ratings['Date'])\n",
    "for date in dates:\n",
    "    n_users.append(ratings[ratings['Date'] <= date]['user_id'].nunique())\n",
    "    n_movies.append(ratings[ratings['Date'] <= date]['movie_id'].nunique())\n",
    "df_users = pd.DataFrame({'Date': dates, '# of Users': n_users}).set_index('Date')\n",
    "df_movies = pd.DataFrame({'Date': dates, '# of Movies': n_movies}).set_index('Date')\n",
    "fig, ax = plt.subplots()\n",
    "df_movies['# of Movies'].plot(style='o-', ax=ax)\n",
    "df_users['# of Users'].plot(style='o-', ax=ax)\n",
    "plt.ylabel('Count')\n",
    "plt.ylim([0, 2000])\n",
    "ax.grid(which='minor')\n",
    "plt.tight_layout()\n",
    "plt.legend()\n",
    "plt.tight_layout(pad=2)\n",
    "# plt.savefig('EDA_increase_num', dpi=900, figsize = (8, 8))\n",
    "plt.show()"
   ]
  },
  {
   "cell_type": "markdown",
   "metadata": {},
   "source": [
    "## 5. What is the sparsity of the user/movie matrix?"
   ]
  },
  {
   "cell_type": "markdown",
   "metadata": {},
   "source": [
    "The maximum number of movie reviews from a single user is 737 that is less than the total number of movies(1682). This indicates that no one could evaluate all movies in our dataset."
   ]
  },
  {
   "cell_type": "code",
   "execution_count": 12,
   "metadata": {},
   "outputs": [
    {
     "data": {
      "text/plain": [
       "737"
      ]
     },
     "execution_count": 12,
     "metadata": {},
     "output_type": "execute_result"
    }
   ],
   "source": [
    "ratings.groupby('user_id')['rating'].count().max()"
   ]
  },
  {
   "cell_type": "code",
   "execution_count": 13,
   "metadata": {},
   "outputs": [
    {
     "data": {
      "text/plain": [
       "1682"
      ]
     },
     "execution_count": 13,
     "metadata": {},
     "output_type": "execute_result"
    }
   ],
   "source": [
    "ratings['movie_id'].nunique()"
   ]
  },
  {
   "cell_type": "markdown",
   "metadata": {},
   "source": [
    "The maximum reviews of a movie(id = 50) is 583 that is less than the number of users(943). This indicates every single movie is not evaluated by every user in our dataset."
   ]
  },
  {
   "cell_type": "code",
   "execution_count": 14,
   "metadata": {},
   "outputs": [
    {
     "data": {
      "text/plain": [
       "583"
      ]
     },
     "execution_count": 14,
     "metadata": {},
     "output_type": "execute_result"
    }
   ],
   "source": [
    "ratings.groupby('movie_id')['rating'].count().max()"
   ]
  },
  {
   "cell_type": "code",
   "execution_count": 15,
   "metadata": {},
   "outputs": [
    {
     "data": {
      "text/plain": [
       "943"
      ]
     },
     "execution_count": 15,
     "metadata": {},
     "output_type": "execute_result"
    }
   ],
   "source": [
    "ratings['user_id'].nunique()"
   ]
  },
  {
   "cell_type": "markdown",
   "metadata": {},
   "source": [
    "These facts point out that data sparsity arises in our dataset from the phenomenon that users in general rate only a limited number of movies. Generally, we need to address sparisty problem in most collaborative filtering which generates recommender systems. The primary reason is that a collaborative filtering algorithms are mainly based on similarity measures computed over the co-rated set of items, the large levels of sparsity can lead to less accuracy and can challenge the predictions or recommendations of the collaborative filtering (CF)systems[1]. Also, the another problem is the scalability problem, which is caused by requiring the large amount of training data in applying our algorithms.\n",
    "\n",
    "The sparsity formular is $$1 - \\frac{\\rm{Number \\ of \\ ratings}}{\\rm{Number \\ of \\ users * Number \\ of \\ movies}}$$\n",
    "\n",
    "By calculation, the sparsity in our dataset is about 93.7%.  \n",
    "\n",
    "[1]https://link.springer.com/chapter/10.1007/978-3-642-35314-7_13"
   ]
  },
  {
   "cell_type": "code",
   "execution_count": 16,
   "metadata": {},
   "outputs": [
    {
     "data": {
      "text/plain": [
       "0.9369533063577546"
      ]
     },
     "execution_count": 16,
     "metadata": {},
     "output_type": "execute_result"
    }
   ],
   "source": [
    "1 - ratings['rating'].count() / (ratings['user_id'].nunique() * ratings['movie_id'].nunique())"
   ]
  },
  {
   "cell_type": "markdown",
   "metadata": {},
   "source": [
    "Suppose we create a rating matrix R with dimension $n_{users}$ * $m_{movie}$ where each cell $r_{ij}$ is the rating by $i$ user and $j$ movie. If with the sparsity problem, the matrix might contain many empty cells that users only respectively rated a few number of 1682 movies. \n",
    "\n",
    "\n",
    "Here's one way to visualize the sparsity. The plot below shows a single, tiny black square for every user/movie combination we have. If everyone rated every movie, you'd see a solid black rectangle. Instead what we see is a lot of white--lots of user/movie combinations for which we don't have a rating (yet). You especially see a lot of white areas in the top right corner. This is probably because early raters had access to fewer movies to rate, and new users progressively had more movies to rate as they were added to the system."
   ]
  },
  {
   "cell_type": "code",
   "execution_count": 18,
   "metadata": {},
   "outputs": [
    {
     "data": {
      "image/png": "[encoded data removed]",
      "text/plain": [
       "<Figure size 640x480 with 1 Axes>"
      ]
     },
     "metadata": {},
     "output_type": "display_data"
    }
   ],
   "source": [
    "rating_matrix = (\n",
    "        pd.pivot_table(\n",
    "            data=ratings,\n",
    "            values='rating',\n",
    "            index='user_id',\n",
    "            columns='movie_id'\n",
    "        )\n",
    "        .fillna(0)\n",
    "        .values\n",
    "    )\n",
    "\n",
    "\n",
    "figure(num=None, figsize=(8, 6), dpi=80, facecolor='w', edgecolor='k')\n",
    "with plt.style.context('seaborn-white'):\n",
    "    rating_matrix_binary = rating_matrix > 0\n",
    "    plt.imshow(rating_matrix_binary)\n",
    "    plt.xlabel('Movie')\n",
    "    plt.ylabel('User')\n",
    "    plt.title('Rating Matrix')\n",
    "    plt.savefig('R', dpi=900, figsize = (8, 8))\n",
    "    plt.show()"
   ]
  },
  {
   "cell_type": "code",
   "execution_count": null,
   "metadata": {},
   "outputs": [],
   "source": []
  }
 ],
 "metadata": {
  "kernelspec": {
   "display_name": "Python 3",
   "language": "python",
   "name": "python3"
  },
  "language_info": {
   "codemirror_mode": {
    "name": "ipython",
    "version": 3
   },
   "file_extension": ".py",
   "mimetype": "text/x-python",
   "name": "python",
   "nbconvert_exporter": "python",
   "pygments_lexer": "ipython3",
   "version": "3.7.1"
  }
 },
 "nbformat": 4,
 "nbformat_minor": 2
}
