{
 "cells": [
  {
   "cell_type": "code",
   "execution_count": 1,
   "metadata": {},
   "outputs": [],
   "source": [
    "%matplotlib inline\n",
    "from datetime import datetime\n",
    "import numpy as np\n",
    "import pandas as pd\n",
    "import seaborn as sns\n",
    "import matplotlib.pyplot as plt\n",
    "from matplotlib.pyplot import figure\n",
    "\n",
    "\n",
    "from sklearn.model_selection import KFold\n",
    "from sklearn.metrics import mean_squared_error\n",
    "from models_script import RegEffectModel\n",
    "from sklearn.model_selection import train_test_split"
   ]
  },
  {
   "cell_type": "markdown",
   "metadata": {},
   "source": [
    "# Load Data"
   ]
  },
  {
   "cell_type": "code",
   "execution_count": 2,
   "metadata": {},
   "outputs": [],
   "source": [
    "# read the data\n",
    "ratings_df = pd.read_csv('raw/ml-100k/u.data', sep = '\\t', header = None, \n",
    "                      names = ['user_id', 'movie_id', 'rating', 'timestamp'])\n",
    "ratings_df['timestamp'] = ratings_df['timestamp'].apply(datetime.fromtimestamp)"
   ]
  },
  {
   "cell_type": "code",
   "execution_count": 4,
   "metadata": {},
   "outputs": [
    {
     "data": {
      "text/html": [
       "<div>\n",
       "<style scoped>\n",
       "    .dataframe tbody tr th:only-of-type {\n",
       "        vertical-align: middle;\n",
       "    }\n",
       "\n",
       "    .dataframe tbody tr th {\n",
       "        vertical-align: top;\n",
       "    }\n",
       "\n",
       "    .dataframe thead th {\n",
       "        text-align: right;\n",
       "    }\n",
       "</style>\n",
       "<table border=\"1\" class=\"dataframe\">\n",
       "  <thead>\n",
       "    <tr style=\"text-align: right;\">\n",
       "      <th></th>\n",
       "      <th>user_id</th>\n",
       "      <th>movie_id</th>\n",
       "      <th>rating</th>\n",
       "      <th>timestamp</th>\n",
       "    </tr>\n",
       "  </thead>\n",
       "  <tbody>\n",
       "    <tr>\n",
       "      <th>0</th>\n",
       "      <td>196</td>\n",
       "      <td>242</td>\n",
       "      <td>3</td>\n",
       "      <td>1997-12-04 07:55:49</td>\n",
       "    </tr>\n",
       "    <tr>\n",
       "      <th>1</th>\n",
       "      <td>186</td>\n",
       "      <td>302</td>\n",
       "      <td>3</td>\n",
       "      <td>1998-04-04 11:22:22</td>\n",
       "    </tr>\n",
       "    <tr>\n",
       "      <th>2</th>\n",
       "      <td>22</td>\n",
       "      <td>377</td>\n",
       "      <td>1</td>\n",
       "      <td>1997-11-06 23:18:36</td>\n",
       "    </tr>\n",
       "    <tr>\n",
       "      <th>3</th>\n",
       "      <td>244</td>\n",
       "      <td>51</td>\n",
       "      <td>2</td>\n",
       "      <td>1997-11-26 21:02:03</td>\n",
       "    </tr>\n",
       "    <tr>\n",
       "      <th>4</th>\n",
       "      <td>166</td>\n",
       "      <td>346</td>\n",
       "      <td>1</td>\n",
       "      <td>1998-02-01 21:33:16</td>\n",
       "    </tr>\n",
       "  </tbody>\n",
       "</table>\n",
       "</div>"
      ],
      "text/plain": [
       "   user_id  movie_id  rating           timestamp\n",
       "0      196       242       3 1997-12-04 07:55:49\n",
       "1      186       302       3 1998-04-04 11:22:22\n",
       "2       22       377       1 1997-11-06 23:18:36\n",
       "3      244        51       2 1997-11-26 21:02:03\n",
       "4      166       346       1 1998-02-01 21:33:16"
      ]
     },
     "execution_count": 4,
     "metadata": {},
     "output_type": "execute_result"
    }
   ],
   "source": [
    "ratings_df.head()"
   ]
  },
  {
   "cell_type": "markdown",
   "metadata": {},
   "source": [
    "# Alternating Least Squares "
   ]
  },
  {
   "cell_type": "code",
   "execution_count": 5,
   "metadata": {},
   "outputs": [],
   "source": [
    "def RMSE(pred_val, true_val):\n",
    "    \n",
    "    return np.sqrt(mean_squared_error(pred_val, true_val))"
   ]
  },
  {
   "cell_type": "code",
   "execution_count": 6,
   "metadata": {},
   "outputs": [],
   "source": [
    "class ALS():\n",
    "\n",
    "    def __init__(self, n_factors=5, n_itr=5, reg_Pu=0, reg_Qi=0, random_seed=0, bias_effect=True):\n",
    "\n",
    "        self.n_factors = n_factors\n",
    "        self.n_itr = n_itr\n",
    "        self.reg_Pu = reg_Pu\n",
    "        self.reg_Qi = reg_Qi\n",
    "        self.random_seed = random_seed\n",
    "        self.bias_effect = bias_effect\n",
    "\n",
    "    def _initial_param(self, X_train):\n",
    "\n",
    "        X_train = X_train.copy()\n",
    "\n",
    "        # initial rating matrix\n",
    "        self.R = pd.pivot_table(data=X_train,\n",
    "                                values='rating',\n",
    "                                index='user_id',\n",
    "                                columns='movie_id').fillna(0).values\n",
    "\n",
    "        # define mapping relationship dict{old_index : new_index}\n",
    "        self.user_map = self.map_id(X_train, 'user_id')\n",
    "        self.movie_map = self.map_id(X_train, 'movie_id')\n",
    "\n",
    "        # get number of users/movies from Rating Matrix\n",
    "        self.n_users = self.R.shape[0]\n",
    "        self.n_movies = self.R.shape[1]\n",
    "\n",
    "        np.random.seed(self.random_seed)\n",
    "        # initial P_u, Q_i, and the identity matrix\n",
    "        self.P_u = 3 * np.random.rand(self.n_factors, self.n_users)  # k*n\n",
    "        self.Q_i = 3 * np.random.rand(self.n_factors, self.n_movies)  # k*m\n",
    "        self.I = np.identity(self.n_factors)  # k*k\n",
    "\n",
    "        # The goal is to fillin the missing ratings if user_id or movie_id in training set\n",
    "        # but not in testing set.\n",
    "        # initial user bias, movie bias term, overall mean\n",
    "        if self.bias_effect == True:\n",
    "            self.baseline_algo = RegEffectModel(damping_term=25)\n",
    "            self.baseline_algo.fit(X_train)\n",
    "            self.b_u, self.b_i = self.baseline_algo.b_u.values, self.baseline_algo.b_i.values\n",
    "        else:\n",
    "            self.b_u = np.zeros(self.n_users)\n",
    "            self.b_i = np.zeros(self.n_movies)\n",
    "\n",
    "        self.u = X_train['rating'].mean()\n",
    "\n",
    "    def fit(self, X_train):\n",
    "\n",
    "        X_train = X_train.copy()\n",
    "        self._initial_param(X_train)\n",
    "\n",
    "        itr = 0\n",
    "        while itr < self.n_itr:\n",
    "\n",
    "            ########## Fix Q_i, Update P_u ##########\n",
    "            # loop for each user\n",
    "            for i, Ri in enumerate(self.R):\n",
    "\n",
    "                # Determine the scale of penalities, lambdau, for each user\n",
    "\n",
    "                # number of items user i has rated\n",
    "                reg_scale_i = np.count_nonzero(Ri)\n",
    "                # if no ratings in Rating Matrix\n",
    "                if reg_scale_i == 0:\n",
    "                    reg_scale_i = 1\n",
    "\n",
    "                # Find indicies\n",
    "                # get the array of nonzero indicies in row i for each user\n",
    "                Ri_nonzero_idx = np.nonzero(Ri)[0]\n",
    "                # select subset of row R associated with movies reviewd by user i -> find r_ui\n",
    "                r_ui = self.R[i, Ri_nonzero_idx]\n",
    "                # select subset of Q_i associated with movies by user i -> find qi_T\n",
    "                qi = self.Q_i[:, Ri_nonzero_idx]\n",
    "\n",
    "                # Compute\n",
    "                # qi * ri\n",
    "                bi = qi.dot(r_ui)\n",
    "                # qi* qi.T + lambda_u * I\n",
    "                Ai = qi.dot(qi.T) + self.reg_Pu * reg_scale_i * self.I\n",
    "\n",
    "                # get p_ui\n",
    "                self.P_u[:, i] = np.linalg.solve(Ai, bi)  # bi.dot(np.linalg.inv(Ai))\n",
    "\n",
    "            ########## Fix P_u, Update Q_i ##########\n",
    "            # loop for each movie\n",
    "            for j, Rj in enumerate(self.R.T):\n",
    "\n",
    "                # Determine the scale of penalities, lambdau, for each movie\n",
    "\n",
    "                # number of items user i has rated\n",
    "                reg_scale_j = np.count_nonzero(Rj)\n",
    "                # if no ratings in Rating Matrix\n",
    "                if reg_scale_j == 0:\n",
    "                    reg_scale_j = 1\n",
    "\n",
    "                # Find indicies\n",
    "                # get the array of nonzero indicies in row i for each movie\n",
    "                Rj_nonzero_idx = np.nonzero(Rj)[0]\n",
    "                # select subset of row R associated with users who reviewed movie j -> find r_ui\n",
    "                r_uj = self.R.T[j, Rj_nonzero_idx]\n",
    "                # select subset of Q_i associated with users who reviewed movie j -> find pu\n",
    "                pu = self.P_u[:, Rj_nonzero_idx]\n",
    "\n",
    "                # Compute\n",
    "                # qi * ri\n",
    "                bj = pu.dot(r_uj)\n",
    "                # qi* qi.T + lambda_u * I\n",
    "                Aj = pu.dot(pu.T) + self.reg_Qi * reg_scale_j * self.I\n",
    "\n",
    "                # get q_ui\n",
    "                self.Q_i[:, j] = np.linalg.solve(Aj, bj)  # bj.dot(np.linalg.inv(Aj))\n",
    "\n",
    "            itr += 1\n",
    "\n",
    "    def predict(self, X_test):\n",
    "\n",
    "        X_test = X_test.iloc[:, :3].copy()\n",
    "\n",
    "        # find the mapping indexes\n",
    "        check_id = X_test['user_id'].isin(\n",
    "            self.user_map.keys()) & X_test['movie_id'].isin(self.movie_map.keys())\n",
    "\n",
    "        # classify known-dataset and unknown-dataset\n",
    "        X_known, X_unknown = X_test[check_id], X_test[-check_id]\n",
    "        # by using map, find out new user/movie indexes\n",
    "        user_inds = X_known['user_id'].map(self.user_map)\n",
    "        movie_inds = X_known['movie_id'].map(self.movie_map)\n",
    "\n",
    "        # make prediction\n",
    "        rating_pred = np.array([\n",
    "            self.P_u[:, u_ind].dot(self.Q_i[:, i_ind])\n",
    "            for u_ind, i_ind in zip(user_inds, movie_inds)\n",
    "        ])\n",
    "\n",
    "        # assign predictions to original dataframe\n",
    "        X_test.loc[check_id, 'rating'] = rating_pred\n",
    "\n",
    "        # fillout missing values of ratings whose use_id or movie_id is not in trianing set\n",
    "        if self.bias_effect == True:\n",
    "            X_test.loc[-check_id, 'rating'] = self.baseline_algo.predict(X_unknown)\n",
    "        else:\n",
    "            X_test.loc[-check_id, 'rating'] = self.u\n",
    "\n",
    "        # deal with some outliers from rating_pred\n",
    "        min_rating = np.min(self.R[np.nonzero(self.R)])\n",
    "        max_rating = np.max(self.R)\n",
    "        X_test.loc[X_test['rating'] < min_rating, 'rating'] = min_rating\n",
    "        X_test.loc[X_test['rating'] > max_rating, 'rating'] = max_rating\n",
    "\n",
    "        return X_test['rating'].values\n",
    "\n",
    "    def map_id(self, X, column_name):\n",
    "        \"\"\"\n",
    "        @X(pd.dataframe): traning dataset\n",
    "        @column_name(str): indicate column name for mapping\n",
    "\n",
    "        @return(dict): return mapping relationships in dictionary\n",
    "        \"\"\"\n",
    "\n",
    "        old_ids = np.unique(X[column_name])\n",
    "        new_ids = np.arange(X[column_name].nunique())\n",
    "\n",
    "        return dict(zip(old_ids, new_ids))\n"
   ]
  },
  {
   "cell_type": "markdown",
   "metadata": {},
   "source": [
    "# Evaluation"
   ]
  },
  {
   "cell_type": "code",
   "execution_count": 15,
   "metadata": {},
   "outputs": [],
   "source": [
    "X_train, X_test = train_test_split(ratings_df, test_size=0.2, shuffle = True, random_state=0)"
   ]
  },
  {
   "cell_type": "code",
   "execution_count": 19,
   "metadata": {},
   "outputs": [
    {
     "data": {
      "text/plain": [
       "(80000, 4)"
      ]
     },
     "execution_count": 19,
     "metadata": {},
     "output_type": "execute_result"
    }
   ],
   "source": [
    "X_train.shape"
   ]
  },
  {
   "cell_type": "markdown",
   "metadata": {},
   "source": [
    "## 5-fold"
   ]
  },
  {
   "cell_type": "code",
   "execution_count": 49,
   "metadata": {},
   "outputs": [],
   "source": [
    "n_splits = 5\n",
    "max_itr = 51\n",
    "kf = KFold(n_splits=n_splits, random_state=0, shuffle=True)\n",
    "train_errs = np.zeros((n_splits, max_itr))\n",
    "test_errs = np.zeros((n_splits, max_itr))"
   ]
  },
  {
   "cell_type": "code",
   "execution_count": 37,
   "metadata": {},
   "outputs": [],
   "source": [
    "# 5-fold evaluations\n",
    "# might take a long time!!!\n",
    "for i_fold, (train_index, test_index) in enumerate(kf.split(X_train)):\n",
    "    print(\"i_fold={}\".format(i_fold))\n",
    "    # get training set and testing set\n",
    "    train_df, test_df = X_train.iloc[train_index, :],X_train.iloc[test_index, :] \n",
    "    \n",
    "    for j in range(max_itr):\n",
    "        # initial model\n",
    "        ALS_model = ALS(n_factors=20, n_itr = j, reg_Pu=0.1, reg_Qi=0.1, random_seed=0, bias_effect=True)\n",
    "        ALS_model.fit(train_df)\n",
    "        \n",
    "        train_pred = ALS_model.predict(train_df)\n",
    "        train_errs[i_fold, j] = RMSE(train_pred, train_df['rating'])\n",
    "        \n",
    "        \n",
    "        test_pred = ALS_model.predict(test_df)\n",
    "        test_errs[i_fold, j] = RMSE(test_pred, test_df['rating'])"
   ]
  },
  {
   "cell_type": "markdown",
   "metadata": {},
   "source": [
    "If you can get all RMSEs from training sets and testing sets, you can calculate the mean from 5-folds and create a comparision plot between training sets and testing sets under different iterations (given n_factors/K = 20)."
   ]
  },
  {
   "cell_type": "markdown",
   "metadata": {},
   "source": [
    "## Find Optimal Iteration"
   ]
  },
  {
   "cell_type": "code",
   "execution_count": 50,
   "metadata": {},
   "outputs": [],
   "source": [
    "## Use last fold\n",
    "n_splits = 5\n",
    "max_itr = 51\n",
    "kf = KFold(n_splits=n_splits, random_state=0, shuffle=True)\n",
    "train_errs = np.zeros((n_splits, max_itr))\n",
    "test_errs = np.zeros((n_splits, max_itr))\n",
    "\n",
    "# 5-fold evaluations\n",
    "for i_fold, (train_index, test_index) in enumerate(kf.split(X_train)):\n",
    "    # get training set and testing set\n",
    "    train_df, test_df = X_train.iloc[train_index, :],X_train.iloc[test_index, :]"
   ]
  },
  {
   "cell_type": "code",
   "execution_count": 55,
   "metadata": {},
   "outputs": [],
   "source": [
    "train_errs = np.zeros(max_itr)\n",
    "test_errs = np.zeros(max_itr)"
   ]
  },
  {
   "cell_type": "code",
   "execution_count": 56,
   "metadata": {},
   "outputs": [],
   "source": [
    "for j in range(max_itr):\n",
    "    # initial model\n",
    "    ALS_model = ALS(n_factors=20, n_itr = j, reg_Pu=0.1, reg_Qi=0.1, random_seed=0, bias_effect=True)\n",
    "    ALS_model.fit(train_df)\n",
    "\n",
    "    train_pred = ALS_model.predict(train_df)\n",
    "    train_errs[j] = RMSE(train_pred, train_df['rating'])\n",
    "\n",
    "\n",
    "    test_pred = ALS_model.predict(test_df)\n",
    "    test_errs[j] = RMSE(test_pred, test_df['rating'])"
   ]
  },
  {
   "cell_type": "code",
   "execution_count": 59,
   "metadata": {},
   "outputs": [],
   "source": [
    "errs_df = pd.DataFrame({'n_itr' : np.arange(max_itr),'train_errs': train_errs, 'test_errs': test_errs})"
   ]
  },
  {
   "cell_type": "code",
   "execution_count": 106,
   "metadata": {},
   "outputs": [],
   "source": [
    "# errs_df.to_csv(r'ALS_itr_results.csv', index = False, header = True)"
   ]
  },
  {
   "cell_type": "code",
   "execution_count": 116,
   "metadata": {},
   "outputs": [
    {
     "data": {
      "image/png": "[encoded data removed]",
      "text/plain": [
       "<Figure size 432x288 with 1 Axes>"
      ]
     },
     "metadata": {
      "needs_background": "light"
     },
     "output_type": "display_data"
    }
   ],
   "source": [
    "fig, ax = plt.subplots()\n",
    "errs_df['train_errs'].plot(style='-', ax=ax)\n",
    "errs_df['test_errs'].plot(style='-', ax=ax)\n",
    "plt.xlabel('Number of iterations')\n",
    "plt.ylabel('RMSE')\n",
    "plt.ylim([0, 2])\n",
    "plt.tight_layout()\n",
    "plt.legend()\n",
    "plt.title('RMSE vs Number of iterations')\n",
    "# plt.savefig('ALS_itr.png', dpi=300)\n",
    "plt.show()"
   ]
  },
  {
   "cell_type": "markdown",
   "metadata": {},
   "source": [
    "Given n_factors = 20, we find that RMSE will not decrease significantly after 20 iterations. Thus, we will use n_itr = 20 for finding optimal K values"
   ]
  },
  {
   "cell_type": "markdown",
   "metadata": {},
   "source": [
    "## Find Optimal K"
   ]
  },
  {
   "cell_type": "code",
   "execution_count": 73,
   "metadata": {},
   "outputs": [],
   "source": [
    "k_list = [1, 2, 5, 10, 20, 50, 100]\n",
    "train_errs2 = np.zeros(len(k_list))\n",
    "test_errs2 = np.zeros(len(k_list))"
   ]
  },
  {
   "cell_type": "code",
   "execution_count": 79,
   "metadata": {},
   "outputs": [],
   "source": [
    "for i in range(len(k_list)):\n",
    "    # initial model\n",
    "    ALS_model = ALS(n_factors=k_list[i], n_itr = 20, reg_Pu=0.1, reg_Qi=0.1, random_seed=0, bias_effect=True)\n",
    "    ALS_model.fit(train_df)\n",
    "\n",
    "    train_pred = ALS_model.predict(train_df)\n",
    "    train_errs2[i] = RMSE(train_pred, train_df['rating'])\n",
    "\n",
    "    test_pred = ALS_model.predict(test_df)\n",
    "    test_errs2[i] = RMSE(test_pred, test_df['rating'])"
   ]
  },
  {
   "cell_type": "code",
   "execution_count": 103,
   "metadata": {},
   "outputs": [],
   "source": [
    "errs_df2 = pd.DataFrame({'n_factors' : k_list,'train_errs': train_errs2, 'test_errs': test_errs2})"
   ]
  },
  {
   "cell_type": "code",
   "execution_count": 117,
   "metadata": {},
   "outputs": [
    {
     "data": {
      "image/png": "[encoded data removed]",
      "text/plain": [
       "<Figure size 432x288 with 1 Axes>"
      ]
     },
     "metadata": {
      "needs_background": "light"
     },
     "output_type": "display_data"
    }
   ],
   "source": [
    "fig, ax = plt.subplots()\n",
    "l, = plt.semilogx(k_list, train_errs2, label='Train Error')\n",
    "l, = plt.semilogx(k_list, test_errs2, label='Train Error')\n",
    "plt.xlabel('Number of iterations')\n",
    "plt.ylabel('RMSE')\n",
    "plt.xticks(k_list, k_list)\n",
    "plt.ylim([0.5, 1])\n",
    "plt.tight_layout()\n",
    "plt.legend()\n",
    "plt.title('RMSE vs Number of Factors')\n",
    "# plt.savefig('ALS_K.png', dpi=300)\n",
    "plt.show()"
   ]
  },
  {
   "cell_type": "code",
   "execution_count": 105,
   "metadata": {},
   "outputs": [
    {
     "data": {
      "text/html": [
       "<div>\n",
       "<style scoped>\n",
       "    .dataframe tbody tr th:only-of-type {\n",
       "        vertical-align: middle;\n",
       "    }\n",
       "\n",
       "    .dataframe tbody tr th {\n",
       "        vertical-align: top;\n",
       "    }\n",
       "\n",
       "    .dataframe thead th {\n",
       "        text-align: right;\n",
       "    }\n",
       "</style>\n",
       "<table border=\"1\" class=\"dataframe\">\n",
       "  <thead>\n",
       "    <tr style=\"text-align: right;\">\n",
       "      <th></th>\n",
       "      <th>n_factors</th>\n",
       "      <th>train_errs</th>\n",
       "      <th>test_errs</th>\n",
       "    </tr>\n",
       "  </thead>\n",
       "  <tbody>\n",
       "    <tr>\n",
       "      <th>0</th>\n",
       "      <td>1</td>\n",
       "      <td>0.913876</td>\n",
       "      <td>0.966688</td>\n",
       "    </tr>\n",
       "    <tr>\n",
       "      <th>1</th>\n",
       "      <td>2</td>\n",
       "      <td>0.860346</td>\n",
       "      <td>0.947177</td>\n",
       "    </tr>\n",
       "    <tr>\n",
       "      <th>2</th>\n",
       "      <td>5</td>\n",
       "      <td>0.784634</td>\n",
       "      <td>0.946147</td>\n",
       "    </tr>\n",
       "    <tr>\n",
       "      <th>3</th>\n",
       "      <td>10</td>\n",
       "      <td>0.705382</td>\n",
       "      <td>0.953186</td>\n",
       "    </tr>\n",
       "    <tr>\n",
       "      <th>4</th>\n",
       "      <td>20</td>\n",
       "      <td>0.626542</td>\n",
       "      <td>0.953831</td>\n",
       "    </tr>\n",
       "    <tr>\n",
       "      <th>5</th>\n",
       "      <td>50</td>\n",
       "      <td>0.561801</td>\n",
       "      <td>0.950013</td>\n",
       "    </tr>\n",
       "    <tr>\n",
       "      <th>6</th>\n",
       "      <td>100</td>\n",
       "      <td>0.554173</td>\n",
       "      <td>0.947652</td>\n",
       "    </tr>\n",
       "  </tbody>\n",
       "</table>\n",
       "</div>"
      ],
      "text/plain": [
       "   n_factors  train_errs  test_errs\n",
       "0          1    0.913876   0.966688\n",
       "1          2    0.860346   0.947177\n",
       "2          5    0.784634   0.946147\n",
       "3         10    0.705382   0.953186\n",
       "4         20    0.626542   0.953831\n",
       "5         50    0.561801   0.950013\n",
       "6        100    0.554173   0.947652"
      ]
     },
     "execution_count": 105,
     "metadata": {},
     "output_type": "execute_result"
    }
   ],
   "source": [
    "errs_df2"
   ]
  },
  {
   "cell_type": "code",
   "execution_count": 108,
   "metadata": {},
   "outputs": [],
   "source": [
    "# errs_df2.to_csv(r'ALS_k_results.csv', index = False, header = True)"
   ]
  },
  {
   "cell_type": "markdown",
   "metadata": {},
   "source": [
    "From the result, we might consider use n_factor = 5 to use as the optimal K value."
   ]
  },
  {
   "cell_type": "markdown",
   "metadata": {},
   "source": [
    "## Use optimal values in Testset"
   ]
  },
  {
   "cell_type": "code",
   "execution_count": 111,
   "metadata": {},
   "outputs": [
    {
     "data": {
      "text/plain": [
       "0.930172460724541"
      ]
     },
     "execution_count": 111,
     "metadata": {},
     "output_type": "execute_result"
    }
   ],
   "source": [
    "final_model = ALS(n_factors=5, n_itr = 20, reg_Pu=0.1, reg_Qi=0.1, random_seed=0, bias_effect=True)\n",
    "final_model.fit(X_train)\n",
    "RMSE(final_model.predict(X_test), X_test['rating'])"
   ]
  },
  {
   "cell_type": "code",
   "execution_count": null,
   "metadata": {},
   "outputs": [],
   "source": []
  }
 ],
 "metadata": {
  "kernelspec": {
   "display_name": "Python 3",
   "language": "python",
   "name": "python3"
  },
  "language_info": {
   "codemirror_mode": {
    "name": "ipython",
    "version": 3
   },
   "file_extension": ".py",
   "mimetype": "text/x-python",
   "name": "python",
   "nbconvert_exporter": "python",
   "pygments_lexer": "ipython3",
   "version": "3.7.1"
  }
 },
 "nbformat": 4,
 "nbformat_minor": 2
}
